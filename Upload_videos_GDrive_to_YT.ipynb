{
  "nbformat": 4,
  "nbformat_minor": 0,
  "metadata": {
    "colab": {
      "name": "Upload_videos_GDrive_to_YT.ipynb",
      "provenance": [],
      "collapsed_sections": []
    },
    "kernelspec": {
      "name": "python3",
      "display_name": "Python 3"
    },
    "language_info": {
      "name": "python"
    }
  },
  "cells": [
    {
      "cell_type": "markdown",
      "metadata": {
        "id": "XCBBbWxx_5g7"
      },
      "source": [
        "#<strong>Upload videos from Google Drive to YouTube</strong>\n",
        "\n",
        "#<strong>Prerequisite</strong>\n",
        "#Google Account with Google Drive and with video files inside a folder, and Youtube Account with created channel\n",
        "#<strong>STEPS (You can do this once)</strong>\n",
        "#*Goto https://console.developers.google.com/ and login your google account.\n",
        "#*Select your country and check the terms and services, then click <b>Agree and Continue</b>.\n",
        "#*Goto <b>APIs & services > Enabled APIs & services > Create Project\n",
        "#*Name the project whatever you like and click <b>Create.\n",
        "#*Next step is to click <b>Enable Api and Services</b> and search for <i>Google Drive API</i> and <i>YouTube Data API v3</i> and enable both.\n",
        "#*Now go to <b>Enabled APIs & Services</b>, down the names select <i>Google Drive API</i> and click <b>Create Credentials<b>.\n",
        "#*At <b>Credential Type</b>, select <i>Google Drive API</i> in the dropdown menu and select the <i>User Data</i> and click <b>Next</b>.\n",
        "#At <b>OAuth Content Screen</b>, name the app \"ytuploader\" and choose the same google account in the user support email, and enter the same email in the developer contact information and click <b>Save and Continue</b>.\n",
        "#At <b>Scopes (optional)</b>, just skip by clicking <b>Save and Continue</b> below.\n",
        "#At <b>OAuth Client ID</b>, Select <i>Desktop App</i> in the <i>Application type</i> dropdown menu, and click <b>Create</b>.\n",
        "#You can now press <b>Done</b>.\n",
        "#Now go to <b>Credentials</b> and download the <b>OAuth 2.0 Client ID</b> you just made, and download the JSON File. (name it as \"ytcredentials.json\") and click ok.\n",
        "#Next is goto <b>OAuth content screen</b>, below at <i>Test users</i> click <b>Add Users</b>, then enter the email of the Youtube Account with created Channel. (you can add more channels depends on you).\n",
        "#After all the things has set up, go back here in colab notebook and click \"Files\" on the left side, right click and upload the \"ytcredentials.json\" file and click OK.\n",
        "#You may now proceed to run the first code below."
      ]
    },
    {
      "cell_type": "code",
      "metadata": {
        "id": "IKzPx8trBR-f"
      },
      "source": [
        ""
      ],
      "execution_count": null,
      "outputs": []
    },
    {
      "cell_type": "code",
      "source": [
        "#@title <<---- Run this to mount your Google Drive with Video Files in it, MUST BE SAME as the one you're logging in the colab. (run to connect Google Drive)\n",
        "from google.colab import drive\n",
        "drive.mount('/content/drive')"
      ],
      "metadata": {
        "cellView": "form",
        "id": "oWvgTTrvCoFv"
      },
      "execution_count": null,
      "outputs": []
    },
    {
      "cell_type": "code",
      "metadata": {
        "id": "NfSzwAhjDaQ9"
      },
      "source": [
        ""
      ],
      "execution_count": null,
      "outputs": []
    },
    {
      "cell_type": "code",
      "metadata": {
        "id": "mujkmDFaTPW9",
        "cellView": "form"
      },
      "source": [
        "#@title <<---- Run this to install Youtube Uploader (run once)\n",
        "!git clone https://github.com/BoostUpStation/youtube-up.git\n",
        "!cd youtube-up\n",
        "!python youtube-up/setup.py"
      ],
      "execution_count": null,
      "outputs": []
    },
    {
      "cell_type": "code",
      "metadata": {
        "id": "UfnlVNo4BdkJ"
      },
      "source": [
        ""
      ],
      "execution_count": null,
      "outputs": []
    },
    {
      "cell_type": "code",
      "metadata": {
        "id": "nuyNmDQeuqSF",
        "cellView": "form"
      },
      "source": [
        "#@title <<---- Run this whenever you want to upload videos in current session (You can select your Youtube Channels with given credentials here)\n",
        "!python2 youtube-up/upload.py"
      ],
      "execution_count": null,
      "outputs": []
    },
    {
      "cell_type": "code",
      "metadata": {
        "id": "6YxuTIglBeOq"
      },
      "source": [
        ""
      ],
      "execution_count": null,
      "outputs": []
    }
  ]
}